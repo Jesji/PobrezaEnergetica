{
 "cells": [
  {
   "cell_type": "markdown",
   "id": "ab551e65-dec3-4168-93b1-545ea3a27236",
   "metadata": {},
   "source": [
    "# MEPI 2016\n",
    "##### La pobreza energética se puede definir como la condición de carencia en el acceso a servicios energéticos mímimos de calidad que impacta de manera negativa la vida de las personas que la padecen. Se han propuesto varios índices para medir la pobreza energética de entre los cuales uno de los más utilizados ha sido el índice Multidimensional de Pobreza energética o MEPI (Multidimensional Energy Poverty Index). Este índice se compone de 5 dimensiones y 6 variables que toman en cuenta distintos servicios energéticos:  \n",
    "* Tipo de combustible para cocción de alimentos\n",
    "* Se usa un combustible distinto a gas o electricidad para cocinar\n",
    "* Se tiene Acceso a electricidad\n",
    "* Se tiene refrigerador\n",
    "* Se cuenta con televisión o radio\n",
    "* Se tiene un línea de teléfono fija o móvil\n",
    "\n",
    "##### Cada una de las variables que se considera tiene un peso que se cuantifica para determinar si una vivienda se encuentra en pobreza energética, la imagen siguiente resume como se cuantifica cada varaible. \n",
    "![variablesMEPI.png](MEPI_categorias.PNG)"
   ]
  },
  {
   "cell_type": "markdown",
   "id": "c6777ea8-e7c4-463d-8a6e-d6e4bda8b631",
   "metadata": {},
   "source": [
    "## Pregunta a resolver\n",
    "##### La pregunta resolver en este trabajo es ¿Cómo ha variado el índice de pobreza energética de México a lo largo del tiempo? \n",
    "\n",
    "## Preparar datos\n",
    "##### Los datos necesarios para calcular el índice de pobreza energética de acuerdo a la metodología MEPI se obtienen de la Encuenta Nacional de INgresos y GAstos en el Hogar elaborada por el INEGI cada 2 años. El tamaño de la muestra de viviendas se determina de acuerdo al ingreso trimestral promedio con un nivel de confianza del 90%.\n",
    "\n",
    "##### Las variables de la ENIGH que pueden ser utilizadas para realizar la metodología MEPI son :\n",
    "|Variable MEPI   | Conjunto datos | Columna     |\n",
    "|----------------|----------------|-------------|\n",
    "|Tipo combustible| Viviendas      | [25] combustible |\n",
    "|Cocina en estufa| Viviendas      | [25] combustible (1,2,6) |\n",
    "|Acceso electricidad| Viviendas      | [22] disp_Elec |\n",
    "|Electrodomésticos| Hogares     | [78] num_refri |\n",
    "|Entretenimiento/educacion| Hogares     | [62]num_radio, [64]num_tva, [66]num_tvd  |\n",
    "|Comunicación| Hogares     | [36]telefono, [37]celular |\n",
    "\n",
    "\n",
    "Se consideran estos dos conjuntos de datos (Viviendas y Hogares) y se procede a la limpieza de los datos\n"
   ]
  },
  {
   "cell_type": "markdown",
   "id": "c20e55c3-313a-4d24-8cd1-55c3c409e969",
   "metadata": {},
   "source": [
    "## Integridad de los datos \n",
    "\n",
    "Los datos utilizados para este trabajo fueron los proporcionados en la Encuesta Nacional de Ingresos y Gastos en el Hogar, recopilados por el Instituto Nacional de Estadística y Geografia en el 2016. El diseño de la muestra se determinó de forma probabilística, de manera que los resultados se pueden generalizar a toda la población del país. La unidad de observación de la muestra es el hogar y se dividió el total de hogares en México por tipos de asentamiento (rural, urbano alto y completamente urbano) y también se clasificaron las viviendas por características sociodemográficas, de esta manera se formaron 693 unidades primarias de muestreo en todo el país. El tamaño de la muestra se determinó con un nivel de confianza del 90% y se obtuvo que el tamaño mínimo de la muestra debe ser de 2000 viviendas por estado, sin embargo en algunos estados se encuestaron más viviendas y se tuvo un total de 81,515 viviendas encuestadas en todo el país. Los datos personales proporcionados son tratados y resguardados bajo las medidas de seguridad que garantizan su confiabilidad, con base en principios de licitud, consentimiento, calidad, información y responsabilidad establecidos en la Ley General de Protección. \n",
    "\n"
   ]
  },
  {
   "cell_type": "markdown",
   "id": "d6e03f35-3f0e-404b-b101-2d39530a7847",
   "metadata": {},
   "source": [
    "## Limpieza de datos\n",
    "1. Se tomaron las columnas que se utilizarán de cada uno de los conjuntos de datos y se crearon dos nuevos conjuntos de datose en los que se ponen los numeros de folio de cada hogar y las columnas que se utilizaran. \n",
    "\n",
    "2. En estos arreglos hay diferente numero de filas, esto se debe a que puede hay más hogares que viviendas, 70311 hogares y 69169 viviendas. Se optó por considerar el número de viviendas para estar en acuerdo con el estudio realizado por Santillan.  \n",
    "\n",
    "3. Se utilizó una consulta de sql para encontrar el número de viviendas que tienen más de un hogar, se encontró que 997 viviendas tienen más de un hogar. La pregunta es ¿que hacer con estos hogares? y ¿qué datos tomar?\n",
    "``` sql\n",
    "CREATE TEMPORARY TABLE temp_table AS \n",
    "  SELECT COUNT(folioviv) AS no_hogares, folioviv\n",
    "  FROM my-project0-390719.energy_poverty.hogares  \n",
    "  GROUP BY folioviv ;\n",
    "\n",
    "SELECT * FROM temp_table\n",
    "WHERE no_hogares > 1 \n",
    "```\n",
    "\n",
    "4. Despues de revisar la tabla de hogares que contiene las variables num_refri, num_tva, num_tvd, num_radio, las cuales son variables numéricas que se pueden sumar para obtener el total de aparatos en la vivienda. Para esto se utilizó la siguiente query: \n",
    "``` sql\n",
    "SELECT folioviv, COUNT(folioviv) AS no_hogares, SUM(num_refri) AS num_refri2, SUM(num_radio) AS num_radio2, SUM(num_tva+num_tvd) AS no_tvs\n",
    "FROM my-project0-390719.energy_poverty.hogares2\n",
    "GROUP BY folioviv\n",
    "```\n",
    "5. Pero como lo que importa es que si tengan estos electrodomésticos y no cuantos tienen, se procedió a crear una tabla nueva en la que se cambio a variables boolenas, donde 1 es que NO tiene el electrodomestico y 0 es que SI lo tiene, quedaron 2 variables, refri, radio-tv. Esto se hizo a través de la siguiente query y posteriormente se guardó esta tabla con el nombre de electrodom3. ES IMPORTANTE notar que en el analisis MEPI la falta del electrodoméstico es el 1 y el si tenerlo es el 0.  \n",
    "\n",
    "``` sql\n",
    "WITH a AS (\n",
    "SELECT folioviv, COUNT(folioviv) AS no_hogares, SUM(num_refri) AS num_refri2, SUM(num_radio) AS num_radio2, SUM(num_tva+num_tvd) AS no_tvs\n",
    "FROM my-project0-390719.energy_poverty.hogares2\n",
    "GROUP BY folioviv\n",
    ")\n",
    "#Nota: se asigna un valor de 0 a las viviendas que si tienen refri y un valor de 1 a las que no, y tambien para la variable radio-tv, si los radios o la tv es mayor a 1, la variable toma el valor de 0 y sino toma el valor de 1. \n",
    "SELECT folioviv, IF(a.num_refri2>=1, 0, 1) AS refri, IF(a.num_radio2>=1 OR a.no_tvs>=1,0, 1) AS radio_tv \n",
    "FROM a\n",
    "```\n",
    "\n",
    "6. Por otra parte, las variables telefono y celular so variables booleanas (de sí o no), así que con que alguno de los hogares tenga el valor de sí (1), se considerará un sí para esa vivienda. Para ello se creó una nueva columna que englobe estas dos columnas utilizando el siguiente query. Los resultados se guardaron en la tabla telefono2.  \n",
    "``` sql\n",
    "WITH x AS \n",
    "( SELECT folioviv, telefono, celular, IF(telefono = 1 OR celular=1,1,0 ) AS telefono2\n",
    "  FROM my-project0-390719.energy_poverty.hogares2  ),\n",
    "y AS \n",
    "( SELECT folioviv, SUM(telefono2) AS telefono3, COUNT(folioviv) AS no_hogares\n",
    "  FROM x\n",
    "  GROUP BY folioviv), \n",
    "z AS \n",
    "( SELECT folioviv, IF (telefono3>= 1, 0, 1) AS telefono4 FROM y)\n",
    "SELECT folioviv, telefono4 FROM z\n",
    "```\n",
    "\n",
    "7. El siguiente paso es juntar las 3 variables de electrodomesticos con la de telefonos en una sola tabla donde el índice sea el número de vivienda, el resultado se guardó en la tabla var_vivienda3\n",
    "``` sql\n",
    "SELECT electrodomesticos.folioviv, refri,radio_tv, telefono4 \n",
    "FROM my-project0-390719.energy_poverty.electrodom3 AS electrodomesticos\n",
    "INNER JOIN my-project0-390719.energy_poverty.telefono2 AS telefono\n",
    "ON electrodomesticos.folioviv = telefono.folioviv\n",
    "```\n",
    "\n",
    "8. Ahora se debe tomar la tabla de vivienda y pasar las variable de combustible, disp_elect y estufa_chi a booleana. La variable de combustible tiene  6 opciones: 1)leña, 2)carbon, 3) gas de tanque, 4) gas natural de tuberia, 5)electricidad, 6) otro. Como la pregunta que se queire responder respectdo a combustible es si el combustible utilizado es diferente a electricidad, gas natural, queroseno o biogas? entonces si la variable combustible tiene el valor 1)leña o 2) carbon o 6) otro, etonces la variable debe valer 1, si es diferente debe valer 0.  Me sorprendió que 12225 viviendas cocinan con leña, carbon u otro. \n",
    "\n",
    "9. Por otra parte, la variable disp_electrica tiene 5 opciones: 1)servicio público, 2)de planta particular, 3) de panel solar, 4) de otra fuente, 5)no tiene luz. Entonces para pasar a booleana de si o no, se considera el valor 5) como 1 es decir no tiene, y el resto de valores como 0, es decir si tiene. Los pasos 8 y 9 se llevaron a cabo a través del siguiente query y se exportan los resultados como viviendas4: \n",
    "``` sql\n",
    "WITH a AS (\n",
    "#se crearon las condiciones si combustibles=1,2,6 es 1 porque cocina con leña, carbon etc, si la disp_elect=5 es 1 porque no tienen electricidad   \n",
    "SELECT folioviv, IF(combustible = 1 OR combustible=2 OR combustible=6,1,0) AS combustible2, IF(disp_elect = 5,1,0) AS electricidad \n",
    "FROM my-project0-390719.energy_poverty.viviendas  \n",
    ")\n",
    "SELECT folioviv, combustible2, electricidad\n",
    "#SELECT folioviv, disp_elect\n",
    "FROM  a  \n",
    "#WHERE disp_elect = 1\n",
    "#WHERE combustible =1 OR combustible=2 OR combustible=6\n",
    "```\n",
    "\n",
    "10. Despues de escribirle a Oss, me comentó que las variables que ellos usaron como combustible \"sucio\" fueron solamente leña y carbon y no otro, por lo que se cambia el query.  \n",
    "\n",
    "11. Luego, la variable estufa_chi tiene 3 opciones posibles: vacio, 1 y 2, donde 1 significa que la vivienda si tiene chimenea para desalojar el humo, lo cual es bueno y se considera como un 0 para el índice, mientras que 2 significa que no tiene, lo cual es malo y se considera como un 1 para el índice. Y la celda vacia significa que no cocinan con un combustible sucio, por lo que la variable tambien toma el valor 0. Un reto más es pasar la variable estufa_chi a enteros. La query queda como a continuación y se renombra la tabla como viviendas5\n",
    "``` sql\n",
    "WITH a AS (\n",
    "#se crearon las condiciones si combustibles=1,2 es 1 porque cocina con leña, carbon etc, si la disp_elect=5 es 1 porque no tienen electricidad   \n",
    "SELECT folioviv, IF(combustible = 1 OR combustible=2,1,0) AS combustible2, IF(disp_elect = 5,1,0) AS electricidad, \n",
    "IF(estufa_chi = \"1\" OR estufa_chi=\" \",0,1) AS estufa3\n",
    "FROM my-project0-390719.energy_poverty.viviendas  \n",
    ")\n",
    "SELECT folioviv, combustible2, electricidad, estufa3\n",
    "#SELECT folioviv, disp_elect\n",
    "FROM  a  \n",
    "#WHERE estufa3 = 1\n",
    "```\n",
    "\n",
    "~~9. Y la variable estufa_chi que se refiere a si hay presencia de chimenea pra desalojar el humo al cocinar: 1) si, 2) no. Mientras que la variable num_estuf en la tabla hogares2 se refiere al número de estufas de gas o eléctricas con las que cuenta el hogar, por lo que para responder a la pregunta de si se cocina es estufa o fuego abierto (chimenea) se utilizan las siguientes suposiciones: si el número de estufas de gas o eléctricas es 0, es posible que usen fogon, 7496 viviendas estan en esta situacion. Por otro lado, la variable estufa_chi que indica si hay chimenea en la vivienda tiene el problema de que hay muchas filas vacias, 57471 filas vacias, 3377 filas donde la respuesta es si (1), 8321 donde la respuesta es no (2) y si la vivienda tiene chimenea entonces si el departamento tiene chimenea. Lo que se hizo fue tomar la variable num_estufas y convertirla a una variable booleana donde 1 es si el numero de estufas de gas o electricas es 0, y se le asigna el valor 0 si el número es mayor o igual a 1, luego se agruparon estos datos por vivienda y se guardó esta variable en la tabla estufa. Se usa la siguiente query:~~\n",
    "\n",
    "``` sql\n",
    "WITH a AS (\n",
    "SELECT folioviv, SUM(num_estuf) AS tot_estuf\n",
    "FROM my-project0-390719.energy_poverty.hogares2\n",
    "GROUP BY folioviv )\n",
    "SELECT folioviv, IF(a.tot_estuf=0,1,0) AS estufa\n",
    "FROM a\n",
    "```\n",
    "\n",
    "~~10. Se tienen que unir las tablas \"estufa\" y \"viviendas5\", para lo cual se usa la siguiente query, y se guarda en la tabla \"estu-comb\".~~  \n",
    "``` sql\n",
    "SELECT viviendas4.folioviv, combustible2,electricidad, estufa\n",
    "FROM my-project0-390719.energy_poverty.viviendas4 AS viviendas4\n",
    "INNER JOIN my-project0-390719.energy_poverty.estufa AS estufa1\n",
    "ON viviendas4.folioviv = estufa1.folioviv\n",
    "```\n",
    "11. LUego se une esta tabla \"estu-comb\" con la tabla \"var_vivienda3\" usando la siguiente query y se guardo la tabla con el nombre de \"Matriz1\"\n",
    "``` sql\n",
    "SELECT from_vivienda.folioviv, combustible2, estufa, electricidad, refri, radio_tv, telefono4\n",
    "FROM my-project0-390719.energy_poverty.estu_comb AS from_vivienda\n",
    "INNER JOIN my-project0-390719.energy_poverty.var_vivienda3 AS from_hogares\n",
    "ON from_vivienda.folioviv = from_hogares.folioviv\n",
    "``` \n",
    "De esta forma, se construyó una matriz que tiene 7 columnas y 69,169 filas. Las columnas son: folioviv, combustible, electricidad, estufa, refri, radio_tv, telefono4.  Para crear esta tabla se utilizó la siguiente query: \n",
    "\n"
   ]
  },
  {
   "cell_type": "markdown",
   "id": "a9006fdd-81c9-45a9-b87b-9b9e4ac87665",
   "metadata": {},
   "source": [
    "# Análisis MEPI\n",
    "Cada fila de la matriz es una vivienda, si la vivienda cumple con las condicioens de privación previamente definidas, entonces esa variable toma el valor del vector de pesos definido. En este caso se usa el vector de pesos utilizado por Nussbaumer y por Santillan para poder replicar el análisis realizado por ellos. En este vector de pesos las variables toman los siguientes valores: \n",
    "- a) Modern cooking fuel = 0.2 \n",
    "- b) indoor pollution = 0.2\n",
    "- c) electricity access = 0.2\n",
    "- d) no tiene refri = 0.13\n",
    "- e) no tiene radio o television = 0.13\n",
    "- f) no tiene telefono = 0.13 \n",
    "\n",
    "Despues de multiplicar cada variable por su valor del vector de pesos se suma el tota de los pesos para cada vivienda, lo que da un valor al que se le asigna la letra $c(i)$. Si este valor $c(i)$ es mayor a un valor $k$ que este caso se asigna de $k=0.3$ este valor de $k$ representa a las personas en pobreza energética extrama según Santillan. Mientras que para calcular el MEPI normal se usó como condición para identificar a una vivienda como pobre energéticamente el que no contarán con alguno de los servicios energéticos. \n",
    "\n",
    "El MEPI se calcula como el producto de las variables incidencia ($H$) e intensidad ($A$) las cuales se expresan como $H=q/n$ donde $q$ es el número de personas identficiadas como pobres energéticamente y $n$ es el total de viviendas/personas.  POr otra parte la intensidad se calcula como $A= \\frac{\\sum_{i=1}^n c(i) }{q}$. Y $MEPI = A*H$. "
   ]
  },
  {
   "cell_type": "markdown",
   "id": "21f999be-3adc-4126-8c4d-5a8165b57df5",
   "metadata": {},
   "source": [
    "1. SE manipuló la tabla \"Matriz1\" para multiplicar cada columna por su respectivo valor de peso del vector de pesos"
   ]
  },
  {
   "cell_type": "code",
   "execution_count": 3,
   "id": "de72a061-87a3-4995-b8e5-ee169e2b5f37",
   "metadata": {
    "tags": []
   },
   "outputs": [],
   "source": [
    "import pandas as pd \n",
    "import numpy as np \n",
    "import matplotlib.pyplot as plt "
   ]
  },
  {
   "cell_type": "markdown",
   "id": "bb0a1486-959b-4057-97f0-d287917c8040",
   "metadata": {},
   "source": [
    "## Multiplicacion de las columnas por sus pesos "
   ]
  },
  {
   "cell_type": "code",
   "execution_count": 5,
   "id": "f6b22e7e-824a-401b-95c1-43e6c37de336",
   "metadata": {
    "tags": []
   },
   "outputs": [],
   "source": [
    "data0 = pd.read_csv(\"Matriz2.csv\")\n",
    "data0.combustible2 = data0.combustible2.multiply(0.2)\n",
    "data0.estufa3 = data0.estufa3.multiply(0.2)\n",
    "data0.electricidad = data0.electricidad.multiply(0.2)\n",
    "data0.refri = data0.refri.multiply(0.13)\n",
    "data0.radio_tv = data0.radio_tv.multiply(0.13)\n",
    "data0.telefono4 = data0.telefono4.multiply(0.13)\n",
    "data0[\"c\"] = data0[\"combustible2\"] + data0[\"estufa3\"] + data0[\"electricidad\"]+ data0[\"refri\"] + data0[\"radio_tv\"]+data0[\"telefono4\"]    \n",
    "#data0.c = data0.c.astype(float)"
   ]
  },
  {
   "cell_type": "code",
   "execution_count": 7,
   "id": "20f35fc8-43f5-46af-98ec-623b0b5dde30",
   "metadata": {
    "tags": []
   },
   "outputs": [
    {
     "data": {
      "text/html": [
       "<div>\n",
       "<style scoped>\n",
       "    .dataframe tbody tr th:only-of-type {\n",
       "        vertical-align: middle;\n",
       "    }\n",
       "\n",
       "    .dataframe tbody tr th {\n",
       "        vertical-align: top;\n",
       "    }\n",
       "\n",
       "    .dataframe thead th {\n",
       "        text-align: right;\n",
       "    }\n",
       "</style>\n",
       "<table border=\"1\" class=\"dataframe\">\n",
       "  <thead>\n",
       "    <tr style=\"text-align: right;\">\n",
       "      <th></th>\n",
       "      <th>folioviv</th>\n",
       "      <th>combustible2</th>\n",
       "      <th>estufa3</th>\n",
       "      <th>electricidad</th>\n",
       "      <th>refri</th>\n",
       "      <th>radio_tv</th>\n",
       "      <th>telefono4</th>\n",
       "      <th>c</th>\n",
       "    </tr>\n",
       "  </thead>\n",
       "  <tbody>\n",
       "    <tr>\n",
       "      <th>40</th>\n",
       "      <td>100076305</td>\n",
       "      <td>0.0</td>\n",
       "      <td>0.0</td>\n",
       "      <td>0.0</td>\n",
       "      <td>0.0</td>\n",
       "      <td>0.0</td>\n",
       "      <td>0.00</td>\n",
       "      <td>0.00</td>\n",
       "    </tr>\n",
       "    <tr>\n",
       "      <th>41</th>\n",
       "      <td>100076306</td>\n",
       "      <td>0.0</td>\n",
       "      <td>0.0</td>\n",
       "      <td>0.0</td>\n",
       "      <td>0.0</td>\n",
       "      <td>0.0</td>\n",
       "      <td>0.00</td>\n",
       "      <td>0.00</td>\n",
       "    </tr>\n",
       "    <tr>\n",
       "      <th>42</th>\n",
       "      <td>100079801</td>\n",
       "      <td>0.0</td>\n",
       "      <td>0.0</td>\n",
       "      <td>0.0</td>\n",
       "      <td>0.0</td>\n",
       "      <td>0.0</td>\n",
       "      <td>0.00</td>\n",
       "      <td>0.00</td>\n",
       "    </tr>\n",
       "    <tr>\n",
       "      <th>43</th>\n",
       "      <td>100079802</td>\n",
       "      <td>0.0</td>\n",
       "      <td>0.0</td>\n",
       "      <td>0.0</td>\n",
       "      <td>0.0</td>\n",
       "      <td>0.0</td>\n",
       "      <td>0.00</td>\n",
       "      <td>0.00</td>\n",
       "    </tr>\n",
       "    <tr>\n",
       "      <th>44</th>\n",
       "      <td>100079803</td>\n",
       "      <td>0.0</td>\n",
       "      <td>0.0</td>\n",
       "      <td>0.0</td>\n",
       "      <td>0.0</td>\n",
       "      <td>0.0</td>\n",
       "      <td>0.00</td>\n",
       "      <td>0.00</td>\n",
       "    </tr>\n",
       "    <tr>\n",
       "      <th>45</th>\n",
       "      <td>100079804</td>\n",
       "      <td>0.0</td>\n",
       "      <td>0.0</td>\n",
       "      <td>0.0</td>\n",
       "      <td>0.0</td>\n",
       "      <td>0.0</td>\n",
       "      <td>0.00</td>\n",
       "      <td>0.00</td>\n",
       "    </tr>\n",
       "    <tr>\n",
       "      <th>46</th>\n",
       "      <td>100079806</td>\n",
       "      <td>0.0</td>\n",
       "      <td>0.0</td>\n",
       "      <td>0.0</td>\n",
       "      <td>0.0</td>\n",
       "      <td>0.0</td>\n",
       "      <td>0.13</td>\n",
       "      <td>0.13</td>\n",
       "    </tr>\n",
       "    <tr>\n",
       "      <th>47</th>\n",
       "      <td>100101401</td>\n",
       "      <td>0.0</td>\n",
       "      <td>0.0</td>\n",
       "      <td>0.0</td>\n",
       "      <td>0.0</td>\n",
       "      <td>0.0</td>\n",
       "      <td>0.00</td>\n",
       "      <td>0.00</td>\n",
       "    </tr>\n",
       "    <tr>\n",
       "      <th>48</th>\n",
       "      <td>100101402</td>\n",
       "      <td>0.0</td>\n",
       "      <td>0.0</td>\n",
       "      <td>0.0</td>\n",
       "      <td>0.0</td>\n",
       "      <td>0.0</td>\n",
       "      <td>0.00</td>\n",
       "      <td>0.00</td>\n",
       "    </tr>\n",
       "    <tr>\n",
       "      <th>49</th>\n",
       "      <td>100101403</td>\n",
       "      <td>0.0</td>\n",
       "      <td>0.0</td>\n",
       "      <td>0.0</td>\n",
       "      <td>0.0</td>\n",
       "      <td>0.0</td>\n",
       "      <td>0.13</td>\n",
       "      <td>0.13</td>\n",
       "    </tr>\n",
       "  </tbody>\n",
       "</table>\n",
       "</div>"
      ],
      "text/plain": [
       "     folioviv  combustible2  estufa3  electricidad  refri  radio_tv  \\\n",
       "40  100076305           0.0      0.0           0.0    0.0       0.0   \n",
       "41  100076306           0.0      0.0           0.0    0.0       0.0   \n",
       "42  100079801           0.0      0.0           0.0    0.0       0.0   \n",
       "43  100079802           0.0      0.0           0.0    0.0       0.0   \n",
       "44  100079803           0.0      0.0           0.0    0.0       0.0   \n",
       "45  100079804           0.0      0.0           0.0    0.0       0.0   \n",
       "46  100079806           0.0      0.0           0.0    0.0       0.0   \n",
       "47  100101401           0.0      0.0           0.0    0.0       0.0   \n",
       "48  100101402           0.0      0.0           0.0    0.0       0.0   \n",
       "49  100101403           0.0      0.0           0.0    0.0       0.0   \n",
       "\n",
       "    telefono4     c  \n",
       "40       0.00  0.00  \n",
       "41       0.00  0.00  \n",
       "42       0.00  0.00  \n",
       "43       0.00  0.00  \n",
       "44       0.00  0.00  \n",
       "45       0.00  0.00  \n",
       "46       0.13  0.13  \n",
       "47       0.00  0.00  \n",
       "48       0.00  0.00  \n",
       "49       0.13  0.13  "
      ]
     },
     "execution_count": 7,
     "metadata": {},
     "output_type": "execute_result"
    }
   ],
   "source": [
    "data0[40:50]"
   ]
  },
  {
   "cell_type": "code",
   "execution_count": 7,
   "id": "99a17ca2-e176-4cee-994c-a343f0a5dbb5",
   "metadata": {
    "tags": []
   },
   "outputs": [
    {
     "data": {
      "text/plain": [
       "69169"
      ]
     },
     "execution_count": 7,
     "metadata": {},
     "output_type": "execute_result"
    }
   ],
   "source": [
    "len(data0)"
   ]
  },
  {
   "cell_type": "markdown",
   "id": "36c378e9-8cf0-4d98-ab75-027e6263975a",
   "metadata": {},
   "source": [
    "## Conteo de personas que cumplen con $c(i) > k$, calculo de intensidad y MEPI"
   ]
  },
  {
   "cell_type": "code",
   "execution_count": 9,
   "id": "07840be0-d482-45d9-8ebf-de6013d53b2a",
   "metadata": {
    "tags": []
   },
   "outputs": [
    {
     "name": "stdout",
     "output_type": "stream",
     "text": [
      "10502\n",
      "Porcentaje hogares pobres (H)  0.15183102256791337\n",
      "Suma de c= 5226.449999999721\n",
      "La intesidad es= 0.49766235002853937\n",
      "el MEPI =  0.07556058349838396\n"
     ]
    }
   ],
   "source": [
    "count = 0\n",
    "k = 0.3\n",
    "suma = 0\n",
    "\n",
    "for a in range(len(data0)):\n",
    "    if (data0[\"c\"][a] > k ) :\n",
    "          count = count + 1\n",
    "          suma =suma + data0[\"c\"][a]\n",
    "print(count) \n",
    "H = count/len(data0)\n",
    "A = suma/count\n",
    "MEPI = A*H\n",
    "\n",
    "print(\"Porcentaje hogares pobres (H) \", H )          \n",
    "print(\"Suma de c=\",suma)\n",
    "print(\"La intesidad es=\",A)\n",
    "print(\"el MEPI = \", MEPI)"
   ]
  },
  {
   "cell_type": "markdown",
   "id": "d01c751f-d2c8-4c95-bd3e-7478a852609f",
   "metadata": {},
   "source": [
    "## Export to csv arreglo foliioviv-c(i)"
   ]
  },
  {
   "cell_type": "code",
   "execution_count": 11,
   "id": "fa74ef4a-18d3-424c-a07a-78013b5905ed",
   "metadata": {
    "tags": []
   },
   "outputs": [],
   "source": [
    "data0.to_csv('2016c.csv', columns=['folioviv','c'], index=False) "
   ]
  },
  {
   "cell_type": "code",
   "execution_count": 13,
   "id": "4bbfa638-23bf-45c8-947e-9304d7b1f847",
   "metadata": {
    "tags": []
   },
   "outputs": [
    {
     "name": "stdout",
     "output_type": "stream",
     "text": [
      "100003801\n"
     ]
    }
   ],
   "source": [
    "type(data0[\"folioviv\"][0])\n",
    "print(data0[\"folioviv\"][0])"
   ]
  },
  {
   "cell_type": "markdown",
   "id": "e8e33120-3457-4bd3-a596-892f52997779",
   "metadata": {},
   "source": [
    "# SIGUIENTES PASOS 4/3/2024\n",
    "- ~~ESCRIBIR A OSS PARA VER SI ME PUEDE ACLARAR COMO SE CONSIDERARON LAS VARIABLES~~\n",
    "- ~~EXPORTAR CSV DE FOLIOVIV-c para DIVIDIRLO EN SQL POR ESTADO~~\n",
    "- ~~DIVIDIR LAS VIVIENDAS POR ESTADO PARA CALCULAR UN VALOR DE MEPI POR ENTIDAD Y~~\n",
    "- CREAR UN MAPA INTERACTIVO EN TABLEU EN QUE SE PUEDAN CAMBIAR LOS AÑOS \n",
    "- DESCARGAR DATOS DE LOS OTROS AÑOS \n",
    "- LIMPIEZA DE DATOS DE TODOS LOS AÑOS\n"
   ]
  }
 ],
 "metadata": {
  "kernelspec": {
   "display_name": "Python 3 (ipykernel)",
   "language": "python",
   "name": "python3"
  },
  "language_info": {
   "codemirror_mode": {
    "name": "ipython",
    "version": 3
   },
   "file_extension": ".py",
   "mimetype": "text/x-python",
   "name": "python",
   "nbconvert_exporter": "python",
   "pygments_lexer": "ipython3",
   "version": "3.11.5"
  }
 },
 "nbformat": 4,
 "nbformat_minor": 5
}
